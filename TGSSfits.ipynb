{
 "cells": [
  {
   "cell_type": "code",
   "execution_count": 2,
   "metadata": {
    "collapsed": true
   },
   "outputs": [],
   "source": [
    "import numpy as np\n",
    "from numpy import inf\n",
    "import math\n",
    "import matplotlib\n",
    "import matplotlib.pyplot as plt\n",
    "from matplotlib.colors import LogNorm\n",
    "from matplotlib.colors import Colormap\n",
    "import scipy\n",
    "from scipy import io\n",
    "import glob\n",
    "import SAplotter\n",
    "from SAplotter import *\n",
    "from filedata import *\n",
    "from astropy.convolution import Gaussian2DKernel\n",
    "from astropy.convolution import convolve\n",
    "from astropy.io import fits\n",
    "import astropy.wcs as WCS"
   ]
  },
  {
   "cell_type": "code",
   "execution_count": 3,
   "metadata": {
    "collapsed": true
   },
   "outputs": [],
   "source": [
    "import matplotlib.pyplot as plt\n",
    "from astropy.visualization import astropy_mpl_style\n",
    "plt.style.use('default')\n",
    "plt.style.use(astropy_mpl_style)"
   ]
  },
  {
   "cell_type": "code",
   "execution_count": 4,
   "metadata": {
    "collapsed": true
   },
   "outputs": [],
   "source": [
    "def pixelate(ra_zoom, dec_zoom, n_bins, ra_total, dec_total, flux_total):\n",
    "    import numpy as np\n",
    "    # Check to see which dimension is larger so that a square in ra,dec can\n",
    "    # be returned\n",
    "    if (ra_zoom[1] - ra_zoom[0]) > (dec_zoom[1] - dec_zoom[0]):\n",
    "        zoom = ra_zoom\n",
    "    else:\n",
    "        zoom = dec_zoom\n",
    "\n",
    "    # Find the size of the bins using the largest dimension and the num of bins\n",
    "    binsize = (zoom[1] - zoom[0]) / n_bins\n",
    "\n",
    "    # Create arrays for ra and dec that give the left side of each pixel\n",
    "    spacing_dec = ((ra_zoom[1] - ra_zoom[0]) - (dec_zoom[1] - dec_zoom[0])) / 2.\n",
    "    spacing_ra = ((dec_zoom[1] - dec_zoom[0]) - (ra_zoom[1] - ra_zoom[0])) / 2.\n",
    "\n",
    "    ra_bin_array = (np.array(range(n_bins)) * binsize) + ra_zoom[0]\n",
    "    dec_bin_array = (np.array(range(n_bins)) * binsize) + dec_zoom[0]\n",
    "    '''\n",
    "    if (ra_zoom[1] - ra_zoom[0]) > (dec_zoom[1] - dec_zoom[0]):\n",
    "        dec_bin_array = (np.array(range(n_bins)) * binsize) + \\\n",
    "            dec_zoom[0] - spacing_dec\n",
    "    if (ra_zoom[1] - ra_zoom[0]) < (dec_zoom[1] - dec_zoom[0]):\n",
    "        ra_bin_array = (np.array(range(n_bins)) * binsize) + \\\n",
    "            ra_zoom[0] - spacing_ra\n",
    "    '''\n",
    "    # Create an empty array of pixels to be filled in the for loops\n",
    "    pixels = np.zeros((len(ra_bin_array), len(dec_bin_array)))\n",
    "\n",
    "    # Histogram components into ra bins\n",
    "    ra_histogram = np.digitize(ra_total, ra_bin_array)\n",
    "    # print ra_histogram\n",
    "\n",
    "    # Begin for loop over both dimensions of pixels, starting with ra\n",
    "    for bin_i in range(len(ra_bin_array)):\n",
    "        # print range(len(ra_bin_array) -2\n",
    "        # print \"bin_i\",bin_i\n",
    "        # Find the indices that fall into the current ra bin slice\n",
    "        ra_inds = np.where(ra_histogram == bin_i)\n",
    "        # print \"rainds\", ra_inds[0]\n",
    "        # print \"lenrainds\", len(ra_inds[0])\n",
    "\n",
    "        # Go to next for cycle if no indices fall into current ra bin slice\n",
    "        if len(ra_inds[0]) == 0:\n",
    "            continue\n",
    "\n",
    "        # Histogram components that fall into the current ra bin slice by dec\n",
    "        # print \"dectotindex\", dec_total[ra_inds]\n",
    "        # print \"decbin\", dec_bin_array\n",
    "        dec_histogram = np.digitize(dec_total[ra_inds], dec_bin_array)\n",
    "        # print \"dechist\",dec_histogram\n",
    "        # Begin for loop by dec over ra bin slice\n",
    "        for bin_j in range(len(dec_bin_array)):\n",
    "\n",
    "            # Find the indicies that fall into the current dec bin\n",
    "            dec_inds = np.where(dec_histogram == bin_j)\n",
    "\n",
    "            # Go to next for cycle if no indices fall into current dec bin\n",
    "            if len(dec_inds[0]) == 0:\n",
    "                continue\n",
    "            # Sum the flux components that fall into current ra/dec bin\n",
    "            # print \"bi\",bin_i,bin_j\n",
    "            # print \"inds\",ra_inds, dec_inds\n",
    "            pixels[bin_i, bin_j] = np.sum(flux_total[ra_inds[0][dec_inds][0]])\n",
    "\n",
    "    # Find the pixel centers in ra/dec for plotting purposes\n",
    "    ra_pixel_centers = (np.arange(n_bins) * binsize) + \\\n",
    "        ra_zoom[0] + binsize / 2.\n",
    "    dec_pixel_centers = (np.arange(n_bins) * binsize) + \\\n",
    "        dec_zoom[0] + binsize / 2.\n",
    "\n",
    "    return pixels, ra_pixel_centers, dec_pixel_centers, spacing_ra, spacing_dec"
   ]
  },
  {
   "cell_type": "code",
   "execution_count": 5,
   "metadata": {
    "collapsed": true
   },
   "outputs": [],
   "source": [
    "def fits_gethduaxis(HDU, axis, strict_fits=True):\n",
    "    \"\"\"\n",
    "    Helper function for making axis arrays for fits files.\n",
    "    Args:\n",
    "        HDU: a fits HDU\n",
    "        axis: the axis number of interest\n",
    "        strict_fits: boolean\n",
    "            If True, require that the axis has cooresponding NAXIS, CRVAL,\n",
    "            CDELT and CRPIX keywords. If False, allow CRPIX to be missing and\n",
    "            set it equal to zero (as a way of supporting old calfits files).\n",
    "            Default is False.\n",
    "    Returns:\n",
    "        numpy array of values for that axis\n",
    "    \"\"\"\n",
    "\n",
    "    ax = str(axis)\n",
    "    N = HDU.header['NAXIS' + ax]\n",
    "    X0 = HDU.header['CRVAL' + ax]\n",
    "    dX = HDU.header['CDELT' + ax]\n",
    "    # add this for calfits backwards compatibility when the CRPIX values were often assumed to be 0\n",
    "    \n",
    "    try:\n",
    "        Xi0 = HDU.header['CRPIX' + ax] - 1\n",
    "    except(KeyError):\n",
    "        if not strict_fits:\n",
    "            import calfits\n",
    "            calfits._warn_oldcalfits('This file')\n",
    "            Xi0 = 0\n",
    "        else:\n",
    "            raise\n",
    "    \n",
    "    return dX * (np.arange(N) - Xi0) + X0"
   ]
  },
  {
   "cell_type": "code",
   "execution_count": 6,
   "metadata": {
    "collapsed": false
   },
   "outputs": [],
   "source": [
    "hdu_list = fits.open('624_TGSSfits/ds9_28505.fits')"
   ]
  },
  {
   "cell_type": "code",
   "execution_count": 19,
   "metadata": {
    "collapsed": false
   },
   "outputs": [
    {
     "name": "stdout",
     "output_type": "stream",
     "text": [
      "Filename: 624_TGSSfits/624_28505.FITS\n",
      "No.    Name         Type      Cards   Dimensions   Format\n",
      "  0  PRIMARY     PrimaryHDU      58   (295, 288, 1, 1)   float32   \n"
     ]
    }
   ],
   "source": [
    "hdu_list.info()"
   ]
  },
  {
   "cell_type": "code",
   "execution_count": 173,
   "metadata": {
    "collapsed": false,
    "scrolled": true
   },
   "outputs": [
    {
     "data": {
      "text/plain": [
       "SIMPLE  =                    T /                                                \n",
       "BITPIX  =                  -32 / array data type                                \n",
       "NAXIS   =                    2 /                                                \n",
       "NAXIS1  =                  295                                                  \n",
       "NAXIS2  =                  288                                                  \n",
       "BLOCKED =                    T /Tape may be blocked                             \n",
       "OBJECT  = 'R17D11  '           /Source name                                     \n",
       "TELESCOP= 'GMRT    '           /                                                \n",
       "INSTRUME= '153MHZ  '           /                                                \n",
       "OBSERVER= 'TGSS    '           /                                                \n",
       "DATE-OBS= '2016-03-15'         /Obs start date YYYY-MM-DD                       \n",
       "DATE-MAP= '2016-03-15'         /Last processing date YYYY-MM-DD                 \n",
       "BUNIT   = 'JY/BEAM '           /Units of flux                                   \n",
       "EQUINOX =      2.000000000E+03 /Epoch of RA DEC                                 \n",
       "VELREF  =                  259 />256 RADIO, 1 LSR 2 HEL 3 OBS                   \n",
       "OBSRA   =    8.00000000000E+01 /Antenna pointing RA                             \n",
       "OBSDEC  =   -3.36367000000E+01 /Antenna pointing DEC                            \n",
       "DATAMAX =      4.639635563E+00 /Maximum pixel value                             \n",
       "DATAMIN =     -4.483389854E-02 /Minimum pixel value                             \n",
       "CTYPE1  = 'RA---SIN'           /                                                \n",
       "CRVAL1  =    8.00000000000E+01 /                                                \n",
       "CDELT1  =     -1.722222310E-03 /                                                \n",
       "CRPIX1  =                816.0                                                  \n",
       "CROTA1  =      0.000000000E+00 /                                                \n",
       "CTYPE2  = 'DEC--SIN'           /                                                \n",
       "CRVAL2  =   -3.36367000000E+01 /                                                \n",
       "CDELT2  =      1.722222310E-03 /                                                \n",
       "CRPIX2  =               -396.0                                                  \n",
       "CROTA2  =      0.000000000E+00 /                                                \n",
       "CTYPE3  = 'FREQ    '           /                                                \n",
       "CRVAL3  =    1.47500000000E+08 /                                                \n",
       "CDELT3  =     -1.666666600E+07 /                                                \n",
       "CRPIX3  =      1.000000000E+00 /                                                \n",
       "CROTA3  =      0.000000000E+00 /                                                \n",
       "CTYPE4  = 'STOKES  '           /                                                \n",
       "CRVAL4  =    1.00000000000E+00 /                                                \n",
       "CDELT4  =      1.000000000E+00 /                                                \n",
       "CRPIX4  =      1.000000000E+00 /                                                \n",
       "CROTA4  =      0.000000000E+00 /                                                \n",
       "HISTORY AIPS HEADER2  CCFLUX   =  0.000000000E+00 /AIPS Catalog Header Keyword  \n",
       "HISTORY AIPS HEADER2  CCTOTAL  =  0.000000000E+00 /AIPS Catalog Header Keyword  \n",
       "HISTORY AIPS HEADER2  MAXABSU  = -1.000000000E+00 /AIPS Catalog Header Keyword  \n",
       "HISTORY CLEARED HISTORY                                                         \n",
       "HISTORY MOVE  INNAME='R17D11      '   INCLASS='IMAGE '                          \n",
       "HISTORY MOVE  INSEQ=  100   INDISK=  1                                          \n",
       "HISTORY MOVE  OUTNAME='R17D11      '   OUTCLASS='TEMP  '                        \n",
       "HISTORY MOVE  OUTSEQ=  100   OUTDISK=  1                                        \n",
       "HISTORY FITTP DATAOUT = 'a:R17D11_5x5.MOSAIC.FITS' / data written to disk file  \n",
       "ORIGIN  = 'AIPSnmpost012    COAOARN              31DEC13'    /                  \n",
       "DATE    = '2016-02-15'   / File written on Greenwich yyyy-mm-dd                 \n",
       "HISTORY AIPS   IMNAME='R17D11      ' IMCLASS='TEMP  ' IMSEQ= 100     /          \n",
       "HISTORY AIPS   USERNO=   12            /                                        \n",
       "COMMENT   FITS (Flexible Image Transport System) format is defined in 'Astronomy\n",
       "COMMENT   and Astrophysics', volume 376, page 359; bibcode: 2001A&A...376..359H \n",
       "HISTORY AIPS   CLEAN BMAJ=  1.1469E-02 BMIN=  6.9444E-03 BPA=   0.00            \n",
       "HISTORY AIPS   CLEAN NITER=        1 PRODUCT=1   / NORMAL                       \n",
       "                                                                                \n",
       "                                                                                \n",
       "                                                                                \n",
       "                                                                                \n",
       "                                                                                \n",
       "                                                                                \n",
       "                                                                                \n",
       "                                                                                \n",
       "                                                                                \n",
       "                                                                                \n",
       "                                                                                \n",
       "                                                                                \n",
       "                                                                                "
      ]
     },
     "execution_count": 173,
     "metadata": {},
     "output_type": "execute_result"
    }
   ],
   "source": [
    "hdu_list[0].header"
   ]
  },
  {
   "cell_type": "code",
   "execution_count": 339,
   "metadata": {
    "collapsed": false
   },
   "outputs": [
    {
     "name": "stdout",
     "output_type": "stream",
     "text": [
      "1\n",
      "(295,)\n"
     ]
    }
   ],
   "source": [
    "ra_vec = fits_gethduaxis(hdu_list[0],1)\n",
    "dec_vec = fits_gethduaxis(hdu_list[0],2)\n",
    "print dec_vec.ndim\n",
    "print ra_vec.shape"
   ]
  },
  {
   "cell_type": "code",
   "execution_count": 381,
   "metadata": {
    "collapsed": false
   },
   "outputs": [
    {
     "name": "stdout",
     "output_type": "stream",
     "text": [
      "2\n"
     ]
    }
   ],
   "source": [
    "image_data = hdu_list[0].data\n",
    "print image_data.ndim"
   ]
  },
  {
   "cell_type": "code",
   "execution_count": 390,
   "metadata": {
    "collapsed": false
   },
   "outputs": [],
   "source": [
    "picture = fits.ImageHDU(image_data,hdu_list[0].header)"
   ]
  },
  {
   "cell_type": "code",
   "execution_count": 318,
   "metadata": {
    "collapsed": false
   },
   "outputs": [],
   "source": [
    "ra_dec = np.meshgrid(ra_vec,dec_vec,indexing='ij')"
   ]
  },
  {
   "cell_type": "code",
   "execution_count": 338,
   "metadata": {
    "collapsed": false
   },
   "outputs": [
    {
     "data": {
      "text/plain": [
       "array([ 81.40361118,  81.40188896,  81.40016674,  81.39844452,\n",
       "        81.39672229,  81.39500007,  81.39327785,  81.39155563,\n",
       "        81.3898334 ,  81.38811118,  81.38638896,  81.38466674,\n",
       "        81.38294451,  81.38122229,  81.37950007,  81.37777785,\n",
       "        81.37605563,  81.3743334 ,  81.37261118,  81.37088896,\n",
       "        81.36916674,  81.36744451,  81.36572229,  81.36400007,\n",
       "        81.36227785,  81.36055562,  81.3588334 ,  81.35711118,\n",
       "        81.35538896,  81.35366674,  81.35194451,  81.35022229,\n",
       "        81.34850007,  81.34677785,  81.34505562,  81.3433334 ,\n",
       "        81.34161118,  81.33988896,  81.33816673,  81.33644451,\n",
       "        81.33472229,  81.33300007,  81.33127785,  81.32955562,\n",
       "        81.3278334 ,  81.32611118,  81.32438896,  81.32266673,\n",
       "        81.32094451,  81.31922229,  81.31750007,  81.31577784,\n",
       "        81.31405562,  81.3123334 ,  81.31061118,  81.30888896,\n",
       "        81.30716673,  81.30544451,  81.30372229,  81.30200007,\n",
       "        81.30027784,  81.29855562,  81.2968334 ,  81.29511118,\n",
       "        81.29338895,  81.29166673,  81.28994451,  81.28822229,\n",
       "        81.28650007,  81.28477784,  81.28305562,  81.2813334 ,\n",
       "        81.27961118,  81.27788895,  81.27616673,  81.27444451,\n",
       "        81.27272229,  81.27100006,  81.26927784,  81.26755562,\n",
       "        81.2658334 ,  81.26411118,  81.26238895,  81.26066673,\n",
       "        81.25894451,  81.25722229,  81.25550006,  81.25377784,\n",
       "        81.25205562,  81.2503334 ,  81.24861117,  81.24688895,\n",
       "        81.24516673,  81.24344451,  81.24172229,  81.24000006,\n",
       "        81.23827784,  81.23655562,  81.2348334 ,  81.23311117,\n",
       "        81.23138895,  81.22966673,  81.22794451,  81.22622228,\n",
       "        81.22450006,  81.22277784,  81.22105562,  81.2193334 ,\n",
       "        81.21761117,  81.21588895,  81.21416673,  81.21244451,\n",
       "        81.21072228,  81.20900006,  81.20727784,  81.20555562,\n",
       "        81.20383339,  81.20211117,  81.20038895,  81.19866673,\n",
       "        81.19694451,  81.19522228,  81.19350006,  81.19177784,\n",
       "        81.19005562,  81.18833339,  81.18661117,  81.18488895,\n",
       "        81.18316673,  81.1814445 ,  81.17972228,  81.17800006,\n",
       "        81.17627784,  81.17455562,  81.17283339,  81.17111117,\n",
       "        81.16938895,  81.16766673,  81.1659445 ,  81.16422228,\n",
       "        81.16250006,  81.16077784,  81.15905561,  81.15733339,\n",
       "        81.15561117,  81.15388895,  81.15216673,  81.1504445 ,\n",
       "        81.14872228,  81.14700006,  81.14527784,  81.14355561,\n",
       "        81.14183339,  81.14011117,  81.13838895,  81.13666672,\n",
       "        81.1349445 ,  81.13322228,  81.13150006,  81.12977784,\n",
       "        81.12805561,  81.12633339,  81.12461117,  81.12288895,\n",
       "        81.12116672,  81.1194445 ,  81.11772228,  81.11600006,\n",
       "        81.11427783,  81.11255561,  81.11083339,  81.10911117,\n",
       "        81.10738895,  81.10566672,  81.1039445 ,  81.10222228,\n",
       "        81.10050006,  81.09877783,  81.09705561,  81.09533339,\n",
       "        81.09361117,  81.09188894,  81.09016672,  81.0884445 ,\n",
       "        81.08672228,  81.08500006,  81.08327783,  81.08155561,\n",
       "        81.07983339,  81.07811117,  81.07638894,  81.07466672,\n",
       "        81.0729445 ,  81.07122228,  81.06950005,  81.06777783,\n",
       "        81.06605561,  81.06433339,  81.06261117,  81.06088894,\n",
       "        81.05916672,  81.0574445 ,  81.05572228,  81.05400005,\n",
       "        81.05227783,  81.05055561,  81.04883339,  81.04711116,\n",
       "        81.04538894,  81.04366672,  81.0419445 ,  81.04022228,\n",
       "        81.03850005,  81.03677783,  81.03505561,  81.03333339,\n",
       "        81.03161116,  81.02988894,  81.02816672,  81.0264445 ,\n",
       "        81.02472227,  81.02300005,  81.02127783,  81.01955561,\n",
       "        81.01783339,  81.01611116,  81.01438894,  81.01266672,\n",
       "        81.0109445 ,  81.00922227,  81.00750005,  81.00577783,\n",
       "        81.00405561,  81.00233338,  81.00061116,  80.99888894,\n",
       "        80.99716672,  80.9954445 ,  80.99372227,  80.99200005,\n",
       "        80.99027783,  80.98855561,  80.98683338,  80.98511116,\n",
       "        80.98338894,  80.98166672,  80.97994449,  80.97822227,\n",
       "        80.97650005,  80.97477783,  80.97305561,  80.97133338,\n",
       "        80.96961116,  80.96788894,  80.96616672,  80.96444449,\n",
       "        80.96272227,  80.96100005,  80.95927783,  80.9575556 ,\n",
       "        80.95583338,  80.95411116,  80.95238894,  80.95066672,\n",
       "        80.94894449,  80.94722227,  80.94550005,  80.94377783,\n",
       "        80.9420556 ,  80.94033338,  80.93861116,  80.93688894,\n",
       "        80.93516671,  80.93344449,  80.93172227,  80.93000005,\n",
       "        80.92827783,  80.9265556 ,  80.92483338,  80.92311116,\n",
       "        80.92138894,  80.91966671,  80.91794449,  80.91622227,\n",
       "        80.91450005,  80.91277782,  80.9110556 ,  80.90933338,\n",
       "        80.90761116,  80.90588894,  80.90416671,  80.90244449,\n",
       "        80.90072227,  80.89900005,  80.89727782])"
      ]
     },
     "execution_count": 338,
     "metadata": {},
     "output_type": "execute_result"
    }
   ],
   "source": [
    "ra_vec"
   ]
  },
  {
   "cell_type": "code",
   "execution_count": 319,
   "metadata": {
    "collapsed": false
   },
   "outputs": [],
   "source": [
    "ra_dec = np.array(ra_dec)"
   ]
  },
  {
   "cell_type": "code",
   "execution_count": 377,
   "metadata": {
    "collapsed": false,
    "scrolled": true
   },
   "outputs": [
    {
     "data": {
      "text/plain": [
       "288"
      ]
     },
     "execution_count": 377,
     "metadata": {},
     "output_type": "execute_result"
    }
   ],
   "source": [
    "len(image_data[0])"
   ]
  },
  {
   "cell_type": "code",
   "execution_count": 373,
   "metadata": {
    "collapsed": false
   },
   "outputs": [
    {
     "ename": "TypeError",
     "evalue": "WCS projection has 4 dimensions, so expected 2 (an Nx4 array and the origin argument) or 5 arguments (the position in each dimension, and the origin argument). Instead, 3 arguments were given.",
     "output_type": "error",
     "traceback": [
      "\u001b[0;31m---------------------------------------------------------------------------\u001b[0m",
      "\u001b[0;31mTypeError\u001b[0m                                 Traceback (most recent call last)",
      "\u001b[0;32m<ipython-input-373-8ff3f29fece9>\u001b[0m in \u001b[0;36m<module>\u001b[0;34m()\u001b[0m\n\u001b[1;32m      1\u001b[0m \u001b[0;32mimport\u001b[0m \u001b[0mastropy\u001b[0m\u001b[0;34m.\u001b[0m\u001b[0mwcs\u001b[0m \u001b[0;32mas\u001b[0m \u001b[0mwcs\u001b[0m\u001b[0;34m\u001b[0m\u001b[0m\n\u001b[1;32m      2\u001b[0m \u001b[0mw\u001b[0m \u001b[0;34m=\u001b[0m \u001b[0mwcs\u001b[0m\u001b[0;34m.\u001b[0m\u001b[0mWCS\u001b[0m\u001b[0;34m(\u001b[0m\u001b[0mhdu_list\u001b[0m\u001b[0;34m[\u001b[0m\u001b[0;36m0\u001b[0m\u001b[0;34m]\u001b[0m\u001b[0;34m,\u001b[0m\u001b[0;36m1\u001b[0m\u001b[0;34m)\u001b[0m\u001b[0;34m\u001b[0m\u001b[0m\n\u001b[0;32m----> 3\u001b[0;31m \u001b[0mra\u001b[0m\u001b[0;34m,\u001b[0m \u001b[0mdec\u001b[0m \u001b[0;34m=\u001b[0m \u001b[0mw\u001b[0m\u001b[0;34m.\u001b[0m\u001b[0mall_pix2world\u001b[0m\u001b[0;34m(\u001b[0m\u001b[0mra_vec\u001b[0m\u001b[0;34m,\u001b[0m\u001b[0mdec_vec\u001b[0m\u001b[0;34m,\u001b[0m\u001b[0;36m1\u001b[0m\u001b[0;34m)\u001b[0m\u001b[0;34m\u001b[0m\u001b[0m\n\u001b[0m",
      "\u001b[0;32m/home/champ2/anaconda2/lib/python2.7/site-packages/astropy/wcs/wcs.pyc\u001b[0m in \u001b[0;36mall_pix2world\u001b[0;34m(self, *args, **kwargs)\u001b[0m\n\u001b[1;32m   1280\u001b[0m     \u001b[0;32mdef\u001b[0m \u001b[0mall_pix2world\u001b[0m\u001b[0;34m(\u001b[0m\u001b[0mself\u001b[0m\u001b[0;34m,\u001b[0m \u001b[0;34m*\u001b[0m\u001b[0margs\u001b[0m\u001b[0;34m,\u001b[0m \u001b[0;34m**\u001b[0m\u001b[0mkwargs\u001b[0m\u001b[0;34m)\u001b[0m\u001b[0;34m:\u001b[0m\u001b[0;34m\u001b[0m\u001b[0m\n\u001b[1;32m   1281\u001b[0m         return self._array_converter(\n\u001b[0;32m-> 1282\u001b[0;31m             self._all_pix2world, 'output', *args, **kwargs)\n\u001b[0m\u001b[1;32m   1283\u001b[0m     all_pix2world.__doc__ = \"\"\"\n\u001b[1;32m   1284\u001b[0m         \u001b[0mTransforms\u001b[0m \u001b[0mpixel\u001b[0m \u001b[0mcoordinates\u001b[0m \u001b[0mto\u001b[0m \u001b[0mworld\u001b[0m \u001b[0mcoordinates\u001b[0m\u001b[0;34m.\u001b[0m\u001b[0;34m\u001b[0m\u001b[0m\n",
      "\u001b[0;32m/home/champ2/anaconda2/lib/python2.7/site-packages/astropy/wcs/wcs.pyc\u001b[0m in \u001b[0;36m_array_converter\u001b[0;34m(self, func, sky, *args, **kwargs)\u001b[0m\n\u001b[1;32m   1276\u001b[0m             \u001b[0;34m\"dimension, and the origin argument). Instead, {2} arguments were \"\u001b[0m\u001b[0;34m\u001b[0m\u001b[0m\n\u001b[1;32m   1277\u001b[0m             \"given.\".format(\n\u001b[0;32m-> 1278\u001b[0;31m                 self.naxis, self.naxis + 1, len(args)))\n\u001b[0m\u001b[1;32m   1279\u001b[0m \u001b[0;34m\u001b[0m\u001b[0m\n\u001b[1;32m   1280\u001b[0m     \u001b[0;32mdef\u001b[0m \u001b[0mall_pix2world\u001b[0m\u001b[0;34m(\u001b[0m\u001b[0mself\u001b[0m\u001b[0;34m,\u001b[0m \u001b[0;34m*\u001b[0m\u001b[0margs\u001b[0m\u001b[0;34m,\u001b[0m \u001b[0;34m**\u001b[0m\u001b[0mkwargs\u001b[0m\u001b[0;34m)\u001b[0m\u001b[0;34m:\u001b[0m\u001b[0;34m\u001b[0m\u001b[0m\n",
      "\u001b[0;31mTypeError\u001b[0m: WCS projection has 4 dimensions, so expected 2 (an Nx4 array and the origin argument) or 5 arguments (the position in each dimension, and the origin argument). Instead, 3 arguments were given."
     ]
    }
   ],
   "source": [
    "import astropy.wcs as wcs\n",
    "w = wcs.WCS(hdu_list[0],1)\n",
    "ra, dec = w.all_pix2world(ra_vec,dec_vec,1)"
   ]
  },
  {
   "cell_type": "code",
   "execution_count": 358,
   "metadata": {
    "collapsed": false,
    "scrolled": true
   },
   "outputs": [
    {
     "ename": "AttributeError",
     "evalue": "Unknown property norm",
     "output_type": "error",
     "traceback": [
      "\u001b[0;31m---------------------------------------------------------------------------\u001b[0m",
      "\u001b[0;31mAttributeError\u001b[0m                            Traceback (most recent call last)",
      "\u001b[0;32m<ipython-input-358-120cecda93d8>\u001b[0m in \u001b[0;36m<module>\u001b[0;34m()\u001b[0m\n\u001b[0;32m----> 1\u001b[0;31m \u001b[0mplt\u001b[0m\u001b[0;34m.\u001b[0m\u001b[0mplot\u001b[0m\u001b[0;34m(\u001b[0m\u001b[0mra_dec\u001b[0m\u001b[0;34m[\u001b[0m\u001b[0;36m0\u001b[0m\u001b[0;34m]\u001b[0m\u001b[0;34m,\u001b[0m\u001b[0mra_dec\u001b[0m\u001b[0;34m[\u001b[0m\u001b[0;36m1\u001b[0m\u001b[0;34m]\u001b[0m\u001b[0;34m,\u001b[0m\u001b[0mnorm\u001b[0m\u001b[0;34m=\u001b[0m\u001b[0mLogNorm\u001b[0m\u001b[0;34m(\u001b[0m\u001b[0;34m)\u001b[0m\u001b[0;34m)\u001b[0m\u001b[0;34m\u001b[0m\u001b[0m\n\u001b[0m\u001b[1;32m      2\u001b[0m \u001b[0;34m\u001b[0m\u001b[0m\n\u001b[1;32m      3\u001b[0m \u001b[0;31m#I chose the tick marks based on the histogram above\u001b[0m\u001b[0;34m\u001b[0m\u001b[0;34m\u001b[0m\u001b[0m\n\u001b[1;32m      4\u001b[0m \u001b[0;31m#cbar = plt.colorbar(ticks=[5.e3,1.e4,2.e4])\u001b[0m\u001b[0;34m\u001b[0m\u001b[0;34m\u001b[0m\u001b[0m\n\u001b[1;32m      5\u001b[0m \u001b[0;31m#cbar.ax.set_yticklabels(['5,000','10,000','20,000'])\u001b[0m\u001b[0;34m\u001b[0m\u001b[0;34m\u001b[0m\u001b[0m\n",
      "\u001b[0;32m/home/champ2/anaconda2/lib/python2.7/site-packages/matplotlib/pyplot.pyc\u001b[0m in \u001b[0;36mplot\u001b[0;34m(*args, **kwargs)\u001b[0m\n\u001b[1;32m   3315\u001b[0m                       mplDeprecation)\n\u001b[1;32m   3316\u001b[0m     \u001b[0;32mtry\u001b[0m\u001b[0;34m:\u001b[0m\u001b[0;34m\u001b[0m\u001b[0m\n\u001b[0;32m-> 3317\u001b[0;31m         \u001b[0mret\u001b[0m \u001b[0;34m=\u001b[0m \u001b[0max\u001b[0m\u001b[0;34m.\u001b[0m\u001b[0mplot\u001b[0m\u001b[0;34m(\u001b[0m\u001b[0;34m*\u001b[0m\u001b[0margs\u001b[0m\u001b[0;34m,\u001b[0m \u001b[0;34m**\u001b[0m\u001b[0mkwargs\u001b[0m\u001b[0;34m)\u001b[0m\u001b[0;34m\u001b[0m\u001b[0m\n\u001b[0m\u001b[1;32m   3318\u001b[0m     \u001b[0;32mfinally\u001b[0m\u001b[0;34m:\u001b[0m\u001b[0;34m\u001b[0m\u001b[0m\n\u001b[1;32m   3319\u001b[0m         \u001b[0max\u001b[0m\u001b[0;34m.\u001b[0m\u001b[0m_hold\u001b[0m \u001b[0;34m=\u001b[0m \u001b[0mwashold\u001b[0m\u001b[0;34m\u001b[0m\u001b[0m\n",
      "\u001b[0;32m/home/champ2/anaconda2/lib/python2.7/site-packages/matplotlib/__init__.pyc\u001b[0m in \u001b[0;36minner\u001b[0;34m(ax, *args, **kwargs)\u001b[0m\n\u001b[1;32m   1896\u001b[0m                     warnings.warn(msg % (label_namer, func.__name__),\n\u001b[1;32m   1897\u001b[0m                                   RuntimeWarning, stacklevel=2)\n\u001b[0;32m-> 1898\u001b[0;31m             \u001b[0;32mreturn\u001b[0m \u001b[0mfunc\u001b[0m\u001b[0;34m(\u001b[0m\u001b[0max\u001b[0m\u001b[0;34m,\u001b[0m \u001b[0;34m*\u001b[0m\u001b[0margs\u001b[0m\u001b[0;34m,\u001b[0m \u001b[0;34m**\u001b[0m\u001b[0mkwargs\u001b[0m\u001b[0;34m)\u001b[0m\u001b[0;34m\u001b[0m\u001b[0m\n\u001b[0m\u001b[1;32m   1899\u001b[0m         \u001b[0mpre_doc\u001b[0m \u001b[0;34m=\u001b[0m \u001b[0minner\u001b[0m\u001b[0;34m.\u001b[0m\u001b[0m__doc__\u001b[0m\u001b[0;34m\u001b[0m\u001b[0m\n\u001b[1;32m   1900\u001b[0m         \u001b[0;32mif\u001b[0m \u001b[0mpre_doc\u001b[0m \u001b[0;32mis\u001b[0m \u001b[0mNone\u001b[0m\u001b[0;34m:\u001b[0m\u001b[0;34m\u001b[0m\u001b[0m\n",
      "\u001b[0;32m/home/champ2/anaconda2/lib/python2.7/site-packages/matplotlib/axes/_axes.pyc\u001b[0m in \u001b[0;36mplot\u001b[0;34m(self, *args, **kwargs)\u001b[0m\n\u001b[1;32m   1404\u001b[0m         \u001b[0mkwargs\u001b[0m \u001b[0;34m=\u001b[0m \u001b[0mcbook\u001b[0m\u001b[0;34m.\u001b[0m\u001b[0mnormalize_kwargs\u001b[0m\u001b[0;34m(\u001b[0m\u001b[0mkwargs\u001b[0m\u001b[0;34m,\u001b[0m \u001b[0m_alias_map\u001b[0m\u001b[0;34m)\u001b[0m\u001b[0;34m\u001b[0m\u001b[0m\n\u001b[1;32m   1405\u001b[0m \u001b[0;34m\u001b[0m\u001b[0m\n\u001b[0;32m-> 1406\u001b[0;31m         \u001b[0;32mfor\u001b[0m \u001b[0mline\u001b[0m \u001b[0;32min\u001b[0m \u001b[0mself\u001b[0m\u001b[0;34m.\u001b[0m\u001b[0m_get_lines\u001b[0m\u001b[0;34m(\u001b[0m\u001b[0;34m*\u001b[0m\u001b[0margs\u001b[0m\u001b[0;34m,\u001b[0m \u001b[0;34m**\u001b[0m\u001b[0mkwargs\u001b[0m\u001b[0;34m)\u001b[0m\u001b[0;34m:\u001b[0m\u001b[0;34m\u001b[0m\u001b[0m\n\u001b[0m\u001b[1;32m   1407\u001b[0m             \u001b[0mself\u001b[0m\u001b[0;34m.\u001b[0m\u001b[0madd_line\u001b[0m\u001b[0;34m(\u001b[0m\u001b[0mline\u001b[0m\u001b[0;34m)\u001b[0m\u001b[0;34m\u001b[0m\u001b[0m\n\u001b[1;32m   1408\u001b[0m             \u001b[0mlines\u001b[0m\u001b[0;34m.\u001b[0m\u001b[0mappend\u001b[0m\u001b[0;34m(\u001b[0m\u001b[0mline\u001b[0m\u001b[0;34m)\u001b[0m\u001b[0;34m\u001b[0m\u001b[0m\n",
      "\u001b[0;32m/home/champ2/anaconda2/lib/python2.7/site-packages/matplotlib/axes/_base.pyc\u001b[0m in \u001b[0;36m_grab_next_args\u001b[0;34m(self, *args, **kwargs)\u001b[0m\n\u001b[1;32m    405\u001b[0m                 \u001b[0;32mreturn\u001b[0m\u001b[0;34m\u001b[0m\u001b[0m\n\u001b[1;32m    406\u001b[0m             \u001b[0;32mif\u001b[0m \u001b[0mlen\u001b[0m\u001b[0;34m(\u001b[0m\u001b[0mremaining\u001b[0m\u001b[0;34m)\u001b[0m \u001b[0;34m<=\u001b[0m \u001b[0;36m3\u001b[0m\u001b[0;34m:\u001b[0m\u001b[0;34m\u001b[0m\u001b[0m\n\u001b[0;32m--> 407\u001b[0;31m                 \u001b[0;32mfor\u001b[0m \u001b[0mseg\u001b[0m \u001b[0;32min\u001b[0m \u001b[0mself\u001b[0m\u001b[0;34m.\u001b[0m\u001b[0m_plot_args\u001b[0m\u001b[0;34m(\u001b[0m\u001b[0mremaining\u001b[0m\u001b[0;34m,\u001b[0m \u001b[0mkwargs\u001b[0m\u001b[0;34m)\u001b[0m\u001b[0;34m:\u001b[0m\u001b[0;34m\u001b[0m\u001b[0m\n\u001b[0m\u001b[1;32m    408\u001b[0m                     \u001b[0;32myield\u001b[0m \u001b[0mseg\u001b[0m\u001b[0;34m\u001b[0m\u001b[0m\n\u001b[1;32m    409\u001b[0m                 \u001b[0;32mreturn\u001b[0m\u001b[0;34m\u001b[0m\u001b[0m\n",
      "\u001b[0;32m/home/champ2/anaconda2/lib/python2.7/site-packages/matplotlib/axes/_base.pyc\u001b[0m in \u001b[0;36m_plot_args\u001b[0;34m(self, tup, kwargs)\u001b[0m\n\u001b[1;32m    393\u001b[0m         \u001b[0mncx\u001b[0m\u001b[0;34m,\u001b[0m \u001b[0mncy\u001b[0m \u001b[0;34m=\u001b[0m \u001b[0mx\u001b[0m\u001b[0;34m.\u001b[0m\u001b[0mshape\u001b[0m\u001b[0;34m[\u001b[0m\u001b[0;36m1\u001b[0m\u001b[0;34m]\u001b[0m\u001b[0;34m,\u001b[0m \u001b[0my\u001b[0m\u001b[0;34m.\u001b[0m\u001b[0mshape\u001b[0m\u001b[0;34m[\u001b[0m\u001b[0;36m1\u001b[0m\u001b[0;34m]\u001b[0m\u001b[0;34m\u001b[0m\u001b[0m\n\u001b[1;32m    394\u001b[0m         \u001b[0;32mfor\u001b[0m \u001b[0mj\u001b[0m \u001b[0;32min\u001b[0m \u001b[0mxrange\u001b[0m\u001b[0;34m(\u001b[0m\u001b[0mmax\u001b[0m\u001b[0;34m(\u001b[0m\u001b[0mncx\u001b[0m\u001b[0;34m,\u001b[0m \u001b[0mncy\u001b[0m\u001b[0;34m)\u001b[0m\u001b[0;34m)\u001b[0m\u001b[0;34m:\u001b[0m\u001b[0;34m\u001b[0m\u001b[0m\n\u001b[0;32m--> 395\u001b[0;31m             \u001b[0mseg\u001b[0m \u001b[0;34m=\u001b[0m \u001b[0mfunc\u001b[0m\u001b[0;34m(\u001b[0m\u001b[0mx\u001b[0m\u001b[0;34m[\u001b[0m\u001b[0;34m:\u001b[0m\u001b[0;34m,\u001b[0m \u001b[0mj\u001b[0m \u001b[0;34m%\u001b[0m \u001b[0mncx\u001b[0m\u001b[0;34m]\u001b[0m\u001b[0;34m,\u001b[0m \u001b[0my\u001b[0m\u001b[0;34m[\u001b[0m\u001b[0;34m:\u001b[0m\u001b[0;34m,\u001b[0m \u001b[0mj\u001b[0m \u001b[0;34m%\u001b[0m \u001b[0mncy\u001b[0m\u001b[0;34m]\u001b[0m\u001b[0;34m,\u001b[0m \u001b[0mkw\u001b[0m\u001b[0;34m,\u001b[0m \u001b[0mkwargs\u001b[0m\u001b[0;34m)\u001b[0m\u001b[0;34m\u001b[0m\u001b[0m\n\u001b[0m\u001b[1;32m    396\u001b[0m             \u001b[0mret\u001b[0m\u001b[0;34m.\u001b[0m\u001b[0mappend\u001b[0m\u001b[0;34m(\u001b[0m\u001b[0mseg\u001b[0m\u001b[0;34m)\u001b[0m\u001b[0;34m\u001b[0m\u001b[0m\n\u001b[1;32m    397\u001b[0m         \u001b[0;32mreturn\u001b[0m \u001b[0mret\u001b[0m\u001b[0;34m\u001b[0m\u001b[0m\n",
      "\u001b[0;32m/home/champ2/anaconda2/lib/python2.7/site-packages/matplotlib/axes/_base.pyc\u001b[0m in \u001b[0;36m_makeline\u001b[0;34m(self, x, y, kw, kwargs)\u001b[0m\n\u001b[1;32m    300\u001b[0m         \u001b[0mdefault_dict\u001b[0m \u001b[0;34m=\u001b[0m \u001b[0mself\u001b[0m\u001b[0;34m.\u001b[0m\u001b[0m_getdefaults\u001b[0m\u001b[0;34m(\u001b[0m\u001b[0mNone\u001b[0m\u001b[0;34m,\u001b[0m \u001b[0mkw\u001b[0m\u001b[0;34m)\u001b[0m\u001b[0;34m\u001b[0m\u001b[0m\n\u001b[1;32m    301\u001b[0m         \u001b[0mself\u001b[0m\u001b[0;34m.\u001b[0m\u001b[0m_setdefaults\u001b[0m\u001b[0;34m(\u001b[0m\u001b[0mdefault_dict\u001b[0m\u001b[0;34m,\u001b[0m \u001b[0mkw\u001b[0m\u001b[0;34m)\u001b[0m\u001b[0;34m\u001b[0m\u001b[0m\n\u001b[0;32m--> 302\u001b[0;31m         \u001b[0mseg\u001b[0m \u001b[0;34m=\u001b[0m \u001b[0mmlines\u001b[0m\u001b[0;34m.\u001b[0m\u001b[0mLine2D\u001b[0m\u001b[0;34m(\u001b[0m\u001b[0mx\u001b[0m\u001b[0;34m,\u001b[0m \u001b[0my\u001b[0m\u001b[0;34m,\u001b[0m \u001b[0;34m**\u001b[0m\u001b[0mkw\u001b[0m\u001b[0;34m)\u001b[0m\u001b[0;34m\u001b[0m\u001b[0m\n\u001b[0m\u001b[1;32m    303\u001b[0m         \u001b[0;32mreturn\u001b[0m \u001b[0mseg\u001b[0m\u001b[0;34m\u001b[0m\u001b[0m\n\u001b[1;32m    304\u001b[0m \u001b[0;34m\u001b[0m\u001b[0m\n",
      "\u001b[0;32m/home/champ2/anaconda2/lib/python2.7/site-packages/matplotlib/lines.pyc\u001b[0m in \u001b[0;36m__init__\u001b[0;34m(self, xdata, ydata, linewidth, linestyle, color, marker, markersize, markeredgewidth, markeredgecolor, markerfacecolor, markerfacecoloralt, fillstyle, antialiased, dash_capstyle, solid_capstyle, dash_joinstyle, solid_joinstyle, pickradius, drawstyle, markevery, **kwargs)\u001b[0m\n\u001b[1;32m    429\u001b[0m         \u001b[0;31m# update kwargs before updating data to give the caller a\u001b[0m\u001b[0;34m\u001b[0m\u001b[0;34m\u001b[0m\u001b[0m\n\u001b[1;32m    430\u001b[0m         \u001b[0;31m# chance to init axes (and hence unit support)\u001b[0m\u001b[0;34m\u001b[0m\u001b[0;34m\u001b[0m\u001b[0m\n\u001b[0;32m--> 431\u001b[0;31m         \u001b[0mself\u001b[0m\u001b[0;34m.\u001b[0m\u001b[0mupdate\u001b[0m\u001b[0;34m(\u001b[0m\u001b[0mkwargs\u001b[0m\u001b[0;34m)\u001b[0m\u001b[0;34m\u001b[0m\u001b[0m\n\u001b[0m\u001b[1;32m    432\u001b[0m         \u001b[0mself\u001b[0m\u001b[0;34m.\u001b[0m\u001b[0mpickradius\u001b[0m \u001b[0;34m=\u001b[0m \u001b[0mpickradius\u001b[0m\u001b[0;34m\u001b[0m\u001b[0m\n\u001b[1;32m    433\u001b[0m         \u001b[0mself\u001b[0m\u001b[0;34m.\u001b[0m\u001b[0mind_offset\u001b[0m \u001b[0;34m=\u001b[0m \u001b[0;36m0\u001b[0m\u001b[0;34m\u001b[0m\u001b[0m\n",
      "\u001b[0;32m/home/champ2/anaconda2/lib/python2.7/site-packages/matplotlib/artist.pyc\u001b[0m in \u001b[0;36mupdate\u001b[0;34m(self, props)\u001b[0m\n\u001b[1;32m    883\u001b[0m         \u001b[0;32mtry\u001b[0m\u001b[0;34m:\u001b[0m\u001b[0;34m\u001b[0m\u001b[0m\n\u001b[1;32m    884\u001b[0m             ret = [_update_property(self, k, v)\n\u001b[0;32m--> 885\u001b[0;31m                    for k, v in props.items()]\n\u001b[0m\u001b[1;32m    886\u001b[0m         \u001b[0;32mfinally\u001b[0m\u001b[0;34m:\u001b[0m\u001b[0;34m\u001b[0m\u001b[0m\n\u001b[1;32m    887\u001b[0m             \u001b[0mself\u001b[0m\u001b[0;34m.\u001b[0m\u001b[0meventson\u001b[0m \u001b[0;34m=\u001b[0m \u001b[0mstore\u001b[0m\u001b[0;34m\u001b[0m\u001b[0m\n",
      "\u001b[0;32m/home/champ2/anaconda2/lib/python2.7/site-packages/matplotlib/artist.pyc\u001b[0m in \u001b[0;36m_update_property\u001b[0;34m(self, k, v)\u001b[0m\n\u001b[1;32m    876\u001b[0m                 \u001b[0mfunc\u001b[0m \u001b[0;34m=\u001b[0m \u001b[0mgetattr\u001b[0m\u001b[0;34m(\u001b[0m\u001b[0mself\u001b[0m\u001b[0;34m,\u001b[0m \u001b[0;34m'set_'\u001b[0m \u001b[0;34m+\u001b[0m \u001b[0mk\u001b[0m\u001b[0;34m,\u001b[0m \u001b[0mNone\u001b[0m\u001b[0;34m)\u001b[0m\u001b[0;34m\u001b[0m\u001b[0m\n\u001b[1;32m    877\u001b[0m                 \u001b[0;32mif\u001b[0m \u001b[0mfunc\u001b[0m \u001b[0;32mis\u001b[0m \u001b[0mNone\u001b[0m \u001b[0;32mor\u001b[0m \u001b[0;32mnot\u001b[0m \u001b[0msix\u001b[0m\u001b[0;34m.\u001b[0m\u001b[0mcallable\u001b[0m\u001b[0;34m(\u001b[0m\u001b[0mfunc\u001b[0m\u001b[0;34m)\u001b[0m\u001b[0;34m:\u001b[0m\u001b[0;34m\u001b[0m\u001b[0m\n\u001b[0;32m--> 878\u001b[0;31m                     \u001b[0;32mraise\u001b[0m \u001b[0mAttributeError\u001b[0m\u001b[0;34m(\u001b[0m\u001b[0;34m'Unknown property %s'\u001b[0m \u001b[0;34m%\u001b[0m \u001b[0mk\u001b[0m\u001b[0;34m)\u001b[0m\u001b[0;34m\u001b[0m\u001b[0m\n\u001b[0m\u001b[1;32m    879\u001b[0m                 \u001b[0;32mreturn\u001b[0m \u001b[0mfunc\u001b[0m\u001b[0;34m(\u001b[0m\u001b[0mv\u001b[0m\u001b[0;34m)\u001b[0m\u001b[0;34m\u001b[0m\u001b[0m\n\u001b[1;32m    880\u001b[0m \u001b[0;34m\u001b[0m\u001b[0m\n",
      "\u001b[0;31mAttributeError\u001b[0m: Unknown property norm"
     ]
    }
   ],
   "source": [
    "plt.imshow(ra_dec[0],ra_dec[1])\n",
    "\n",
    "#I chose the tick marks based on the histogram above\n",
    "#cbar = plt.colorbar(ticks=[5.e3,1.e4,2.e4])\n",
    "#cbar.ax.set_yticklabels(['5,000','10,000','20,000'])\n",
    "\n",
    "plt.show()"
   ]
  },
  {
   "cell_type": "code",
   "execution_count": 391,
   "metadata": {
    "collapsed": false
   },
   "outputs": [
    {
     "ename": "TypeError",
     "evalue": "Image data can not convert to float",
     "output_type": "error",
     "traceback": [
      "\u001b[0;31m---------------------------------------------------------------------------\u001b[0m",
      "\u001b[0;31mTypeError\u001b[0m                                 Traceback (most recent call last)",
      "\u001b[0;32m<ipython-input-391-e5b802860d00>\u001b[0m in \u001b[0;36m<module>\u001b[0;34m()\u001b[0m\n\u001b[0;32m----> 1\u001b[0;31m \u001b[0mplt\u001b[0m\u001b[0;34m.\u001b[0m\u001b[0mimshow\u001b[0m\u001b[0;34m(\u001b[0m\u001b[0mpicture\u001b[0m\u001b[0;34m)\u001b[0m\u001b[0;31m#, vmin=-2.e-5, vmax=2.e-4, origin='lower')\u001b[0m\u001b[0;34m\u001b[0m\u001b[0m\n\u001b[0m\u001b[1;32m      2\u001b[0m \u001b[0mplt\u001b[0m\u001b[0;34m.\u001b[0m\u001b[0mshow\u001b[0m\u001b[0;34m\u001b[0m\u001b[0m\n",
      "\u001b[0;32m/home/champ2/anaconda2/lib/python2.7/site-packages/matplotlib/pyplot.pyc\u001b[0m in \u001b[0;36mimshow\u001b[0;34m(X, cmap, norm, aspect, interpolation, alpha, vmin, vmax, origin, extent, shape, filternorm, filterrad, imlim, resample, url, hold, data, **kwargs)\u001b[0m\n\u001b[1;32m   3155\u001b[0m                         \u001b[0mfilternorm\u001b[0m\u001b[0;34m=\u001b[0m\u001b[0mfilternorm\u001b[0m\u001b[0;34m,\u001b[0m \u001b[0mfilterrad\u001b[0m\u001b[0;34m=\u001b[0m\u001b[0mfilterrad\u001b[0m\u001b[0;34m,\u001b[0m\u001b[0;34m\u001b[0m\u001b[0m\n\u001b[1;32m   3156\u001b[0m                         \u001b[0mimlim\u001b[0m\u001b[0;34m=\u001b[0m\u001b[0mimlim\u001b[0m\u001b[0;34m,\u001b[0m \u001b[0mresample\u001b[0m\u001b[0;34m=\u001b[0m\u001b[0mresample\u001b[0m\u001b[0;34m,\u001b[0m \u001b[0murl\u001b[0m\u001b[0;34m=\u001b[0m\u001b[0murl\u001b[0m\u001b[0;34m,\u001b[0m \u001b[0mdata\u001b[0m\u001b[0;34m=\u001b[0m\u001b[0mdata\u001b[0m\u001b[0;34m,\u001b[0m\u001b[0;34m\u001b[0m\u001b[0m\n\u001b[0;32m-> 3157\u001b[0;31m                         **kwargs)\n\u001b[0m\u001b[1;32m   3158\u001b[0m     \u001b[0;32mfinally\u001b[0m\u001b[0;34m:\u001b[0m\u001b[0;34m\u001b[0m\u001b[0m\n\u001b[1;32m   3159\u001b[0m         \u001b[0max\u001b[0m\u001b[0;34m.\u001b[0m\u001b[0m_hold\u001b[0m \u001b[0;34m=\u001b[0m \u001b[0mwashold\u001b[0m\u001b[0;34m\u001b[0m\u001b[0m\n",
      "\u001b[0;32m/home/champ2/anaconda2/lib/python2.7/site-packages/matplotlib/__init__.pyc\u001b[0m in \u001b[0;36minner\u001b[0;34m(ax, *args, **kwargs)\u001b[0m\n\u001b[1;32m   1896\u001b[0m                     warnings.warn(msg % (label_namer, func.__name__),\n\u001b[1;32m   1897\u001b[0m                                   RuntimeWarning, stacklevel=2)\n\u001b[0;32m-> 1898\u001b[0;31m             \u001b[0;32mreturn\u001b[0m \u001b[0mfunc\u001b[0m\u001b[0;34m(\u001b[0m\u001b[0max\u001b[0m\u001b[0;34m,\u001b[0m \u001b[0;34m*\u001b[0m\u001b[0margs\u001b[0m\u001b[0;34m,\u001b[0m \u001b[0;34m**\u001b[0m\u001b[0mkwargs\u001b[0m\u001b[0;34m)\u001b[0m\u001b[0;34m\u001b[0m\u001b[0m\n\u001b[0m\u001b[1;32m   1899\u001b[0m         \u001b[0mpre_doc\u001b[0m \u001b[0;34m=\u001b[0m \u001b[0minner\u001b[0m\u001b[0;34m.\u001b[0m\u001b[0m__doc__\u001b[0m\u001b[0;34m\u001b[0m\u001b[0m\n\u001b[1;32m   1900\u001b[0m         \u001b[0;32mif\u001b[0m \u001b[0mpre_doc\u001b[0m \u001b[0;32mis\u001b[0m \u001b[0mNone\u001b[0m\u001b[0;34m:\u001b[0m\u001b[0;34m\u001b[0m\u001b[0m\n",
      "\u001b[0;32m/home/champ2/anaconda2/lib/python2.7/site-packages/matplotlib/axes/_axes.pyc\u001b[0m in \u001b[0;36mimshow\u001b[0;34m(self, X, cmap, norm, aspect, interpolation, alpha, vmin, vmax, origin, extent, shape, filternorm, filterrad, imlim, resample, url, **kwargs)\u001b[0m\n\u001b[1;32m   5122\u001b[0m                               resample=resample, **kwargs)\n\u001b[1;32m   5123\u001b[0m \u001b[0;34m\u001b[0m\u001b[0m\n\u001b[0;32m-> 5124\u001b[0;31m         \u001b[0mim\u001b[0m\u001b[0;34m.\u001b[0m\u001b[0mset_data\u001b[0m\u001b[0;34m(\u001b[0m\u001b[0mX\u001b[0m\u001b[0;34m)\u001b[0m\u001b[0;34m\u001b[0m\u001b[0m\n\u001b[0m\u001b[1;32m   5125\u001b[0m         \u001b[0mim\u001b[0m\u001b[0;34m.\u001b[0m\u001b[0mset_alpha\u001b[0m\u001b[0;34m(\u001b[0m\u001b[0malpha\u001b[0m\u001b[0;34m)\u001b[0m\u001b[0;34m\u001b[0m\u001b[0m\n\u001b[1;32m   5126\u001b[0m         \u001b[0;32mif\u001b[0m \u001b[0mim\u001b[0m\u001b[0;34m.\u001b[0m\u001b[0mget_clip_path\u001b[0m\u001b[0;34m(\u001b[0m\u001b[0;34m)\u001b[0m \u001b[0;32mis\u001b[0m \u001b[0mNone\u001b[0m\u001b[0;34m:\u001b[0m\u001b[0;34m\u001b[0m\u001b[0m\n",
      "\u001b[0;32m/home/champ2/anaconda2/lib/python2.7/site-packages/matplotlib/image.pyc\u001b[0m in \u001b[0;36mset_data\u001b[0;34m(self, A)\u001b[0m\n\u001b[1;32m    594\u001b[0m         if (self._A.dtype != np.uint8 and\n\u001b[1;32m    595\u001b[0m                 not np.can_cast(self._A.dtype, np.float)):\n\u001b[0;32m--> 596\u001b[0;31m             \u001b[0;32mraise\u001b[0m \u001b[0mTypeError\u001b[0m\u001b[0;34m(\u001b[0m\u001b[0;34m\"Image data can not convert to float\"\u001b[0m\u001b[0;34m)\u001b[0m\u001b[0;34m\u001b[0m\u001b[0m\n\u001b[0m\u001b[1;32m    597\u001b[0m \u001b[0;34m\u001b[0m\u001b[0m\n\u001b[1;32m    598\u001b[0m         if (self._A.ndim not in (2, 3) or\n",
      "\u001b[0;31mTypeError\u001b[0m: Image data can not convert to float"
     ]
    }
   ],
   "source": [
    "plt.imshow(picture)#, vmin=-2.e-5, vmax=2.e-4, origin='lower')\n",
    "plt.show"
   ]
  },
  {
   "cell_type": "code",
   "execution_count": 332,
   "metadata": {
    "collapsed": false
   },
   "outputs": [],
   "source": [
    "ra_zoom = [max(ra_vec),min(ra_vec)]\n",
    "dec_zoom = [max(dec_vec),min(dec_vec)]\n",
    "n_bins = 30"
   ]
  },
  {
   "cell_type": "code",
   "execution_count": null,
   "metadata": {
    "collapsed": true
   },
   "outputs": [],
   "source": [
    "pixels, ra_pixel_centers, dec_pixel_centers, spacing_ra, spacing_dec = \\\n",
    "    pixelate(ra_zoom, dec_zoom, n_bins, ra_vec, dec_vec, )"
   ]
  },
  {
   "cell_type": "code",
   "execution_count": null,
   "metadata": {
    "collapsed": true
   },
   "outputs": [],
   "source": [
    "#############################################################\n",
    "#I found a thing to make these plots more easily! lets give it a shot"
   ]
  },
  {
   "cell_type": "code",
   "execution_count": 21,
   "metadata": {
    "collapsed": false
   },
   "outputs": [],
   "source": [
    "import wcsaxes\n",
    "from wcsaxes import WCSAxes"
   ]
  },
  {
   "cell_type": "code",
   "execution_count": 19,
   "metadata": {
    "collapsed": false
   },
   "outputs": [
    {
     "name": "stdout",
     "output_type": "stream",
     "text": [
      "============================= test session starts ==============================\n",
      "platform linux2 -- Python 2.7.13, pytest-2.8.3, py-1.4.30, pluggy-0.3.1\n",
      "\n",
      "Running tests with wcsaxes version 0.9.\n",
      "Running tests in /home/champ2/anaconda2/lib/python2.7/site-packages/wcsaxes.\n",
      "\n",
      "Date: 2017-07-28T16:59:37\n",
      "\n",
      "Platform: Linux-3.19.0-28-generic-x86_64-with-debian-jessie-sid\n",
      "\n",
      "Executable: /home/champ2/anaconda2/bin/python\n",
      "\n",
      "Full Python Version: \n",
      "2.7.13 |Anaconda custom (64-bit)| (default, Dec 20 2016, 23:09:15) \n",
      "[GCC 4.4.7 20120313 (Red Hat 4.4.7-1)]\n",
      "\n",
      "encodings: sys: ascii, locale: UTF-8, filesystem: UTF-8, unicode bits: 20\n",
      "byteorder: little\n",
      "float info: dig: 15, mant_dig: 15\n",
      "\n",
      "Numpy: 1.12.1\n",
      "Scipy: 0.19.0\n",
      "Matplotlib: 2.0.2\n",
      "h5py: 2.7.0\n",
      "Pandas: 0.20.2\n",
      "Astropy: 1.3.3\n",
      "Using Astropy options: remote_data.\n",
      "\n",
      "rootdir: /home/champ2/anaconda2/lib/python2.7/site-packages/wcsaxes, inifile: \n",
      "collected 126 items\n",
      "\n",
      "../../champ2/anaconda2/lib/python2.7/site-packages/wcsaxes/tests/test_coordinate_helpers.py .\n",
      "../../champ2/anaconda2/lib/python2.7/site-packages/wcsaxes/tests/test_display_world_coordinates.py ..\n",
      "../../champ2/anaconda2/lib/python2.7/site-packages/wcsaxes/tests/test_formatter_locator.py .........................................................................................\n",
      "../../champ2/anaconda2/lib/python2.7/site-packages/wcsaxes/tests/test_frame.py ssss\n",
      "../../champ2/anaconda2/lib/python2.7/site-packages/wcsaxes/tests/test_images.py sssssssssssssssss\n",
      "../../champ2/anaconda2/lib/python2.7/site-packages/wcsaxes/tests/test_misc.py ....\n",
      "../../champ2/anaconda2/lib/python2.7/site-packages/wcsaxes/tests/test_transform_coord_meta.py sss\n",
      "../../champ2/anaconda2/lib/python2.7/site-packages/wcsaxes/tests/test_transforms.py ..\n",
      "../../champ2/anaconda2/lib/python2.7/site-packages/wcsaxes/tests/test_utils.py ....\n",
      "\n",
      "=================== 102 passed, 24 skipped in 17.26 seconds ====================\n"
     ]
    },
    {
     "data": {
      "text/plain": [
       "0"
      ]
     },
     "execution_count": 19,
     "metadata": {},
     "output_type": "execute_result"
    }
   ],
   "source": [
    "fig = plt.figure()\n",
    "ax = WCSAxes(fig, [0.1, 0.1, 0.8, 0.8], wcs=mywcs)\n",
    "fig.add_axes(ax)  # note that the axes have to be added to the figure\n",
    "ax.imshow(image_data, origin='lower')"
   ]
  },
  {
   "cell_type": "code",
   "execution_count": null,
   "metadata": {
    "collapsed": true
   },
   "outputs": [],
   "source": []
  }
 ],
 "metadata": {
  "kernelspec": {
   "display_name": "Python 2",
   "language": "python",
   "name": "python2"
  },
  "language_info": {
   "codemirror_mode": {
    "name": "ipython",
    "version": 2
   },
   "file_extension": ".py",
   "mimetype": "text/x-python",
   "name": "python",
   "nbconvert_exporter": "python",
   "pygments_lexer": "ipython2",
   "version": "2.7.13"
  }
 },
 "nbformat": 4,
 "nbformat_minor": 2
}
