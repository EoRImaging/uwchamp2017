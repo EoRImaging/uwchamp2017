{
 "cells": [
  {
   "cell_type": "code",
   "execution_count": null,
   "metadata": {},
   "outputs": [],
   "source": [
    "import fits_functions as ff\n",
    "import clusterer as clst"
   ]
  },
  {
   "cell_type": "raw",
   "metadata": {},
   "source": [
    "This is a quick walkthrough of how to view the contours of an extended object (EO) from FHD data\n",
    "on top of images of the same object from TGSS or NVSS. We start with an IDL .sav\n",
    "file like this: \n",
    "\n",
    "'new_source_arrays/1130788624_source_array.sav'\n",
    "\n",
    "This can be opened using clst.collector; see its documentation for information about this function."
   ]
  },
  {
   "cell_type": "code",
   "execution_count": null,
   "metadata": {},
   "outputs": [],
   "source": [
    "data = clst.collector('new_source_arrays/1131454296_source_array.sav')"
   ]
  },
  {
   "cell_type": "markdown",
   "metadata": {},
   "source": [
    "# downloadTGSS"
   ]
  },
  {
   "cell_type": "raw",
   "metadata": {},
   "source": [
    "From here, data can be put into these functions to be plotted. We still need the\n",
    "images from TGSS or NVSS to compare it with. To do this, we plug data and the\n",
    "object ID into the function downloadTGSS. We will use EO ID 32770 for this example."
   ]
  },
  {
   "cell_type": "code",
   "execution_count": null,
   "metadata": {},
   "outputs": [],
   "source": [
    "fitsTGSS = ff.downloadTGSS(data,32770)\n",
    "\n",
    "print fitsTGSS"
   ]
  },
  {
   "cell_type": "markdown",
   "metadata": {},
   "source": [
    "# contourFits"
   ]
  },
  {
   "cell_type": "raw",
   "metadata": {
    "collapsed": true
   },
   "source": [
    "We are now ready to plot the ocntours of our EO on top of the TGSS\n",
    "image of it! All you need to do is run contourFits, like this:"
   ]
  },
  {
   "cell_type": "code",
   "execution_count": null,
   "metadata": {},
   "outputs": [],
   "source": [
    "contourFileTGSS = ff.contourFits(data,fitsTGSS,32770,'32770_contours_TGSS.png')\n",
    "\n",
    "print contourFileTGSS"
   ]
  },
  {
   "cell_type": "raw",
   "metadata": {},
   "source": [
    "Congratulations! You now have a .png file of this image. \n",
    "\n",
    "Now, lets check this object against NVSS. To do this, simply run downloadTGSS\n",
    "as you did before, but include the argument NVSS=True, to get the FITS image \n",
    "file. From there, run contourFile with this FITS file.\n",
    "\n"
   ]
  },
  {
   "cell_type": "code",
   "execution_count": null,
   "metadata": {},
   "outputs": [],
   "source": [
    "fitsNVSS = ff.downloadTGSS(data,32770,NVSS=True,)\n",
    "print fitsNVSS\n",
    "\n",
    "contourFileNVSS = ff.contourFits(data,fitsNVSS,32770,'32770_contours_NVSS.png')\n",
    "print "
   ]
  },
  {
   "cell_type": "raw",
   "metadata": {},
   "source": [
    "If you want to see the plots when clustering has been applied to the file,\n",
    "then include the argument cluster=True. The default flux cutoff for this is \n",
    "0.03 janskies, but if you would like to change this value (to 0.02 janskies,\n",
    "for example), then include the argument cutoff=0.02."
   ]
  },
  {
   "cell_type": "code",
   "execution_count": null,
   "metadata": {},
   "outputs": [],
   "source": [
    "contourFileTGSScutoff = ff.contourFits(data,fitsTGSS,32770,\n",
    "                                       '32770_contours_TGSS_cutoff.png',cluster=True,cutoff=0.02)"
   ]
  },
  {
   "cell_type": "markdown",
   "metadata": {},
   "source": [
    "# getFits"
   ]
  },
  {
   "cell_type": "raw",
   "metadata": {},
   "source": [
    "Last function! If you want to make a binary FITS file out of data that has had some clustering\n",
    "done to it, use getFits. First, make a list of all of the EOids of the EO's that you would like \n",
    "clustered:"
   ]
  },
  {
   "cell_type": "code",
   "execution_count": null,
   "metadata": {
    "collapsed": true
   },
   "outputs": [],
   "source": [
    "EOlist = [32770,32772,32808]"
   ]
  },
  {
   "cell_type": "raw",
   "metadata": {},
   "source": [
    "Now plug this in to the argument EOidList"
   ]
  },
  {
   "cell_type": "code",
   "execution_count": null,
   "metadata": {},
   "outputs": [],
   "source": [
    "someCutsFits = ff.getFits(data,EOidList=EOlist,filename='practice.FITS')"
   ]
  },
  {
   "cell_type": "code",
   "execution_count": null,
   "metadata": {
    "collapsed": true
   },
   "outputs": [],
   "source": []
  }
 ],
 "metadata": {
  "kernelspec": {
   "display_name": "Python 2",
   "language": "python",
   "name": "python2"
  },
  "language_info": {
   "codemirror_mode": {
    "name": "ipython",
    "version": 2
   },
   "file_extension": ".py",
   "mimetype": "text/x-python",
   "name": "python",
   "nbconvert_exporter": "python",
   "pygments_lexer": "ipython2",
   "version": "2.7.13"
  }
 },
 "nbformat": 4,
 "nbformat_minor": 2
}
